{
 "cells": [
  {
   "cell_type": "markdown",
   "metadata": {},
   "source": [
    "# Simple Blockchain Data Structure\n",
    "\n",
    "-  Blockchain is like a linked list\n",
    "- Hashing is a process which you turn anything (as long as you can represent it as a string) into a fixed 256 bit string. "
   ]
  },
  {
   "cell_type": "code",
   "execution_count": 29,
   "metadata": {},
   "outputs": [],
   "source": [
    "import hashlib\n",
    "import json"
   ]
  },
  {
   "cell_type": "code",
   "execution_count": 13,
   "metadata": {},
   "outputs": [
    {
     "data": {
      "text/plain": [
       "'253151dfa7b563f12e9a63f00e4327bc96ffc3adad15928afa943d18ef8fa5c6'"
      ]
     },
     "execution_count": 13,
     "metadata": {},
     "output_type": "execute_result"
    }
   ],
   "source": [
    "hashlib.sha256(b'BLOCKCHIN').hexdigest()"
   ]
  },
  {
   "cell_type": "code",
   "execution_count": 33,
   "metadata": {},
   "outputs": [
    {
     "data": {
      "text/plain": [
       "'0b10010100110001010100011101111110100111101101010110001111110001001011101001101001100011111100000000111001000011001001111011110010010110111111111100001110101101101011010001010110010010100010101111101010010100001111010001100011101111100011111010010111000110'"
      ]
     },
     "execution_count": 33,
     "metadata": {},
     "output_type": "execute_result"
    }
   ],
   "source": [
    "bin(0x253151dfa7b563f12e9a63f00e4327bc96ffc3adad15928afa943d18ef8fa5c6)"
   ]
  },
  {
   "cell_type": "markdown",
   "metadata": {},
   "source": [
    "The first block in Bitcoin is called genesis block.\n",
    "\n"
   ]
  },
  {
   "cell_type": "code",
   "execution_count": 26,
   "metadata": {},
   "outputs": [],
   "source": [
    "# first block in chain\n",
    "\n",
    "block_genesis = {\n",
    " 'prev_hash': None,\n",
    " 'transactions' : [1, 3, 4, 2]\n",
    "}"
   ]
  },
  {
   "cell_type": "code",
   "execution_count": 39,
   "metadata": {},
   "outputs": [],
   "source": [
    "# serialize the block so it can be hashed.\n",
    "\n",
    "block_genesis_serialized = json.dumps(block_genesis, sort_keys=True).encode('utf-8')\n",
    "\n",
    "# hashing block\n",
    "block_genesis_hash = hashlib.sha256(block_genesis_serialized).hexdigest()"
   ]
  },
  {
   "cell_type": "code",
   "execution_count": 40,
   "metadata": {},
   "outputs": [
    {
     "data": {
      "text/plain": [
       "'5612d07f6a00977bb0644dfb0a5d58723a381e86ce428de2625e4c125173d1b0'"
      ]
     },
     "execution_count": 40,
     "metadata": {},
     "output_type": "execute_result"
    }
   ],
   "source": [
    "#block_genesis_serialized :: b'{\"prev_hash\": null, \"transactions\": [1, 3, 4, 2]}'\n",
    "block_genesis_hash"
   ]
  },
  {
   "cell_type": "code",
   "execution_count": 47,
   "metadata": {},
   "outputs": [],
   "source": [
    "# block 2 in chain\n",
    "\n",
    "block_2 = {\n",
    " 'prev_hash' : block_genesis_hash,\n",
    " 'transactions' : [3, 3, 3, 8, 7, 12]\n",
    "}\n",
    "\n",
    "block_2_serialized = json.dumps(block_2, sort_keys=True).encode('utf-8')\n",
    "block_2_hash = hashlib.sha256(block_2_serialized).hexdigest()"
   ]
  },
  {
   "cell_type": "code",
   "execution_count": 43,
   "metadata": {},
   "outputs": [],
   "source": [
    "# block 3 in chain\n",
    "\n",
    "block_3 = {\n",
    " 'prev_hash' : block_2_hash,\n",
    " 'transactions' : [3, 4, 4, 8, 34]\n",
    "}\n",
    "\n",
    "block_3_serialized = json.dumps(block_3, sort_keys=True).encode('utf-8')\n",
    "block_3_hash = hashlib.sha256(block_3_serialized).hexdigest()"
   ]
  },
  {
   "cell_type": "markdown",
   "metadata": {},
   "source": [
    "# Final Script"
   ]
  },
  {
   "cell_type": "code",
   "execution_count": 46,
   "metadata": {},
   "outputs": [
    {
     "name": "stdout",
     "output_type": "stream",
     "text": [
      "Original hash\n",
      "45eda4f7a76bf0f92a0acda2ce4752dfbe167473376f766f22d7ec68501cac40\n",
      "Tampering the data\n",
      "After being tampered\n",
      "27d68dae05428be6aa244869196a481f431fca6645dd33c3df7a740afa03b7d9\n"
     ]
    }
   ],
   "source": [
    "import hashlib, json\n",
    "\n",
    "block_genesis = {\n",
    " \"prev_hash\": None,\n",
    " \"transactions\": [1, 3, 4, 2]\n",
    "}\n",
    "\n",
    "block_2 = {\n",
    " \"prev_hash\": None,\n",
    " \"transactions\": [3, 3, 3, 8, 7, 12]\n",
    "}\n",
    "\n",
    "block_3 = {\n",
    " \"prev_hash\": None,\n",
    " \"transactions\": [3, 4, 4, 8, 34]\n",
    "}\n",
    "\n",
    "def hash_blocks(blocks):\n",
    "    prev_hash = None\n",
    "    for block in blocks:\n",
    "        block['prev_hash'] = prev_hash\n",
    "        block_serialized = json.dumps(block, sort_keys=True).encode('utf-8')\n",
    "        block_hash = hashlib.sha256(block_serialized).hexdigest()\n",
    "        prev_hash = block_hash\n",
    "    return prev_hash\n",
    "\n",
    "\n",
    "print('Original hash')\n",
    "print(hash_blocks([block_genesis, block_2, block_3]))\n",
    "\n",
    "print('Tampering the data')\n",
    "block_genesis['transactions'][0] = 3\n",
    "\n",
    "print('After being tampered')\n",
    "print(hash_blocks([block_genesis, block_2, block_3]))"
   ]
  },
  {
   "cell_type": "code",
   "execution_count": null,
   "metadata": {},
   "outputs": [],
   "source": []
  }
 ],
 "metadata": {
  "kernelspec": {
   "display_name": "Python 3",
   "language": "python",
   "name": "python3"
  },
  "language_info": {
   "codemirror_mode": {
    "name": "ipython",
    "version": 3
   },
   "file_extension": ".py",
   "mimetype": "text/x-python",
   "name": "python",
   "nbconvert_exporter": "python",
   "pygments_lexer": "ipython3",
   "version": "3.7.0"
  }
 },
 "nbformat": 4,
 "nbformat_minor": 2
}
